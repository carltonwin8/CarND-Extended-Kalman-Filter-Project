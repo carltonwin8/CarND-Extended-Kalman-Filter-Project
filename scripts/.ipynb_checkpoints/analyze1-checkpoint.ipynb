{
 "cells": [
  {
   "cell_type": "code",
   "execution_count": 9,
   "metadata": {
    "collapsed": false
   },
   "outputs": [
    {
     "name": "stdout",
     "output_type": "stream",
     "text": [
      "[\"telemetry\",{\"sensor_measurement\":\"L 3.122427e-01 5.803398e-01 1477010443000000 6.000000e-01 6.000000e-01 5.199937e+00 0 0 6.911322e-03\"}]\n",
      "\n",
      "[\"telemetry\",{\"sensor_measurement\":\"R 1.014892e+00 5.543292e-01 4.892807e+00 1477010443050000 8.599968e-01 6.000449e-01 5.199747e+00 1.796856e-03 3.455661e-04 1.382155e-02\"}]\n",
      "\n",
      "[\"telemetry\",{\"sensor_measurement\":\"L 1.173848e+00 4.810729e-01 1477010443100000 1.119984e+00 6.002246e-01 5.199429e+00 5.389957e-03 1.036644e-03 2.072960e-02\"}]\n",
      "\n",
      "[\"telemetry\",{\"sensor_measurement\":\"R 1.047505e+00 3.892401e-01 4.511325e+00 1477010443150000 1.379955e+00 6.006288e-01 5.198979e+00 1.077814e-02 2.073124e-03 2.763437e-02\"}]\n",
      "\n",
      "[\"telemetry\",{\"sensor_measurement\":\"L 1.650626e+00 6.246904e-01 1477010443200000 1.639904e+00 6.013473e-01 5.198392e+00 1.795970e-02 3.454842e-03 3.453479e-02\"}]\n",
      "\n",
      "[\"telemetry\",{\"sensor_measurement\":\"R 1.698300e+00 2.982801e-01 5.209986e+00 1477010443250000 1.899823e+00 6.024697e-01 5.197661e+00 2.693234e-02 5.181582e-03 4.142974e-02\"}]\n",
      "\n",
      "[\"telemetry\",{\"sensor_measurement\":\"L 2.188824e+00 6.487392e-01 1477010443300000 2.159704e+00 6.040855e-01 5.196776e+00 3.769324e-02 7.253069e-03 4.831816e-02\"}]\n",
      "\n",
      "[\"telemetry\",{\"sensor_measurement\":\"R 2.044382e+00 2.760018e-01 5.043867e+00 1477010443350000 2.419540e+00 6.062840e-01 5.195728e+00 5.023894e-02 9.668977e-03 5.519894e-02\"}]\n",
      "\n",
      "[\"telemetry\",{\"sensor_measurement\":\"L 2.655256e+00 6.659798e-01 1477010443400000 2.679323e+00 6.091545e-01 5.194504e+00 6.456542e-02 1.242892e-02 6.207101e-02\"}]\n",
      "\n",
      "[\"telemetry\",{\"sensor_measurement\":\"R 2.990916e+00 2.176679e-01 5.191807e+00 1477010443450000 2.939043e+00 6.127858e-01 5.193090e+00 8.066803e-02 1.553247e-02 6.893328e-02\"}]\n",
      "\n"
     ]
    }
   ],
   "source": [
    "with open('../build/lr4tele.txt') as f:\n",
    "    content = f.readlines()\n",
    "    \n",
    "jsonIn = []\n",
    "for line in content:\n",
    "    if line[0] == '[':\n",
    "        jsonIn.append(line)\n",
    "        \n",
    "for i in range(10):\n",
    "    print(jsonIn[i])\n",
    "    \n",
    "with open('../build/tele.txt', 'w') as fout:\n",
    "    for line in jsonIn:\n",
    "        fout.write(\"%s\" % line)"
   ]
  }
 ],
 "metadata": {
  "kernelspec": {
   "display_name": "Python 3",
   "language": "python",
   "name": "python3"
  },
  "language_info": {
   "codemirror_mode": {
    "name": "ipython",
    "version": 3
   },
   "file_extension": ".py",
   "mimetype": "text/x-python",
   "name": "python",
   "nbconvert_exporter": "python",
   "pygments_lexer": "ipython3",
   "version": "3.6.0"
  }
 },
 "nbformat": 4,
 "nbformat_minor": 2
}
